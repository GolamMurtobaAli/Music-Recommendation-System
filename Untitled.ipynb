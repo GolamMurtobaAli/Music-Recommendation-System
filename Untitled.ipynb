{
 "cells": [
  {
   "cell_type": "code",
   "execution_count": 1,
   "id": "2fe78af6",
   "metadata": {},
   "outputs": [],
   "source": [
    "import requests\n",
    "import base64\n",
    "import pandas as pd\n",
    "from IPython.display import Image, display\n",
    "\n",
    "from sklearn.feature_extraction.text import TfidfVectorizer\n",
    "from sklearn.metrics.pairwise import cosine_similarity"
   ]
  },
  {
   "cell_type": "code",
   "execution_count": 10,
   "id": "e31265b2",
   "metadata": {},
   "outputs": [],
   "source": [
    "df = pd.read_csv('song_details_new.csv')"
   ]
  },
  {
   "cell_type": "code",
   "execution_count": 11,
   "id": "cdb7ab3f",
   "metadata": {},
   "outputs": [
    {
     "data": {
      "text/plain": [
       "song_title      object\n",
       "artist          object\n",
       "album           object\n",
       "genre           object\n",
       "release_date    object\n",
       "dtype: object"
      ]
     },
     "execution_count": 11,
     "metadata": {},
     "output_type": "execute_result"
    }
   ],
   "source": [
    "df.dtypes"
   ]
  },
  {
   "cell_type": "code",
   "execution_count": 12,
   "id": "32b5a5fb",
   "metadata": {},
   "outputs": [
    {
     "data": {
      "text/plain": [
       "Index(['song_title', 'artist', 'album', 'genre', 'release_date'], dtype='object')"
      ]
     },
     "execution_count": 12,
     "metadata": {},
     "output_type": "execute_result"
    }
   ],
   "source": [
    "df.columns"
   ]
  },
  {
   "cell_type": "code",
   "execution_count": 5,
   "id": "1bb73d18",
   "metadata": {},
   "outputs": [
    {
     "data": {
      "text/plain": [
       "song_title    0\n",
       "artist        0\n",
       "album         0\n",
       "genre         0\n",
       "dtype: int64"
      ]
     },
     "execution_count": 5,
     "metadata": {},
     "output_type": "execute_result"
    }
   ],
   "source": [
    "df.isnull().sum()"
   ]
  },
  {
   "cell_type": "code",
   "execution_count": 13,
   "id": "c85bb558",
   "metadata": {
    "scrolled": false
   },
   "outputs": [
    {
     "data": {
      "text/html": [
       "<div>\n",
       "<style scoped>\n",
       "    .dataframe tbody tr th:only-of-type {\n",
       "        vertical-align: middle;\n",
       "    }\n",
       "\n",
       "    .dataframe tbody tr th {\n",
       "        vertical-align: top;\n",
       "    }\n",
       "\n",
       "    .dataframe thead th {\n",
       "        text-align: right;\n",
       "    }\n",
       "</style>\n",
       "<table border=\"1\" class=\"dataframe\">\n",
       "  <thead>\n",
       "    <tr style=\"text-align: right;\">\n",
       "      <th></th>\n",
       "      <th>song_title</th>\n",
       "      <th>artist</th>\n",
       "      <th>album</th>\n",
       "      <th>genre</th>\n",
       "      <th>release_date</th>\n",
       "    </tr>\n",
       "  </thead>\n",
       "  <tbody>\n",
       "    <tr>\n",
       "      <th>0</th>\n",
       "      <td>Happy</td>\n",
       "      <td>Pharrell Williams</td>\n",
       "      <td>G I R L</td>\n",
       "      <td>Pop</td>\n",
       "      <td>03-03-2014</td>\n",
       "    </tr>\n",
       "    <tr>\n",
       "      <th>1</th>\n",
       "      <td>Uptown Funk</td>\n",
       "      <td>Mark Ronson</td>\n",
       "      <td>Uptown Special</td>\n",
       "      <td>Funk</td>\n",
       "      <td>26-01-2015</td>\n",
       "    </tr>\n",
       "    <tr>\n",
       "      <th>2</th>\n",
       "      <td>I Will Survive</td>\n",
       "      <td>Gloria Gaynor</td>\n",
       "      <td>Love Tracks</td>\n",
       "      <td>Disco</td>\n",
       "      <td>06-10-1978</td>\n",
       "    </tr>\n",
       "    <tr>\n",
       "      <th>3</th>\n",
       "      <td>Dancing Queen</td>\n",
       "      <td>ABBA</td>\n",
       "      <td>Arrival</td>\n",
       "      <td>Disco</td>\n",
       "      <td>11-11-1976</td>\n",
       "    </tr>\n",
       "    <tr>\n",
       "      <th>4</th>\n",
       "      <td>Bohemian Rhapsody</td>\n",
       "      <td>Queen</td>\n",
       "      <td>A Night at the Opera</td>\n",
       "      <td>Rock</td>\n",
       "      <td>31-10-1975</td>\n",
       "    </tr>\n",
       "    <tr>\n",
       "      <th>5</th>\n",
       "      <td>Imagine</td>\n",
       "      <td>John Lennon</td>\n",
       "      <td>Imagine</td>\n",
       "      <td>Rock</td>\n",
       "      <td>09-09-1971</td>\n",
       "    </tr>\n",
       "    <tr>\n",
       "      <th>6</th>\n",
       "      <td>Hallelujah</td>\n",
       "      <td>Leonard Cohen</td>\n",
       "      <td>Various Artists: I'm Your Fan</td>\n",
       "      <td>Folk</td>\n",
       "      <td>26-11-1984</td>\n",
       "    </tr>\n",
       "    <tr>\n",
       "      <th>7</th>\n",
       "      <td>What a Wonderful World</td>\n",
       "      <td>Louis Armstrong</td>\n",
       "      <td>Satchmo Plays Fats</td>\n",
       "      <td>Jazz</td>\n",
       "      <td>28-05-1957</td>\n",
       "    </tr>\n",
       "    <tr>\n",
       "      <th>8</th>\n",
       "      <td>Fly Me to the Moon</td>\n",
       "      <td>Frank Sinatra</td>\n",
       "      <td>Fly Me to the Moon</td>\n",
       "      <td>Jazz</td>\n",
       "      <td>24-09-1964</td>\n",
       "    </tr>\n",
       "    <tr>\n",
       "      <th>9</th>\n",
       "      <td>My Way</td>\n",
       "      <td>Frank Sinatra</td>\n",
       "      <td>My Way</td>\n",
       "      <td>Pop</td>\n",
       "      <td>25-07-1969</td>\n",
       "    </tr>\n",
       "    <tr>\n",
       "      <th>10</th>\n",
       "      <td>Yesterday</td>\n",
       "      <td>The Beatles</td>\n",
       "      <td>Help!</td>\n",
       "      <td>Pop</td>\n",
       "      <td>06-08-1965</td>\n",
       "    </tr>\n",
       "    <tr>\n",
       "      <th>11</th>\n",
       "      <td>Old Town Road (Remix)</td>\n",
       "      <td>Lil Nas X ft. Billy Ray Cyrus</td>\n",
       "      <td>7 EP</td>\n",
       "      <td>Country Rap</td>\n",
       "      <td>05-04-2019</td>\n",
       "    </tr>\n",
       "    <tr>\n",
       "      <th>12</th>\n",
       "      <td>Blinding Lights</td>\n",
       "      <td>The Weeknd</td>\n",
       "      <td>After Hours</td>\n",
       "      <td>Pop</td>\n",
       "      <td>29-11-2019</td>\n",
       "    </tr>\n",
       "    <tr>\n",
       "      <th>13</th>\n",
       "      <td>Someone You Loved</td>\n",
       "      <td>Lewis Capaldi</td>\n",
       "      <td>Divinely Uninspired to a Hellish Extent</td>\n",
       "      <td>Pop</td>\n",
       "      <td>17-05-2019</td>\n",
       "    </tr>\n",
       "    <tr>\n",
       "      <th>14</th>\n",
       "      <td>Dance Monkey</td>\n",
       "      <td>Tones and I</td>\n",
       "      <td>Dance Monkey</td>\n",
       "      <td>Pop</td>\n",
       "      <td>10-05-2019</td>\n",
       "    </tr>\n",
       "    <tr>\n",
       "      <th>15</th>\n",
       "      <td>Circles</td>\n",
       "      <td>Post Malone</td>\n",
       "      <td>Hollywood's Bleeding</td>\n",
       "      <td>Pop Rap</td>\n",
       "      <td>06-09-2019</td>\n",
       "    </tr>\n",
       "    <tr>\n",
       "      <th>16</th>\n",
       "      <td>Good 4 U</td>\n",
       "      <td>Olivia Rodrigo</td>\n",
       "      <td>SOUR</td>\n",
       "      <td>Pop Punk</td>\n",
       "      <td>21-05-2021</td>\n",
       "    </tr>\n",
       "    <tr>\n",
       "      <th>17</th>\n",
       "      <td>Industry Baby</td>\n",
       "      <td>Lil Nas X ft. Jack Harlow</td>\n",
       "      <td>Montero</td>\n",
       "      <td>Hip Hop</td>\n",
       "      <td>23-07-2021</td>\n",
       "    </tr>\n",
       "    <tr>\n",
       "      <th>18</th>\n",
       "      <td>Levitating (feat. DaBaby)</td>\n",
       "      <td>Dua Lipa</td>\n",
       "      <td>Future Nostalgia (The Moonlight Edition)</td>\n",
       "      <td>Pop</td>\n",
       "      <td>27-03-2021</td>\n",
       "    </tr>\n",
       "    <tr>\n",
       "      <th>19</th>\n",
       "      <td>Stay (with Justin Bieber)</td>\n",
       "      <td>The Kid Laroi</td>\n",
       "      <td>F*ck Love (Savage)</td>\n",
       "      <td>Pop</td>\n",
       "      <td>09-07-2021</td>\n",
       "    </tr>\n",
       "    <tr>\n",
       "      <th>20</th>\n",
       "      <td>Shivers</td>\n",
       "      <td>Ed Sheeran</td>\n",
       "      <td>=</td>\n",
       "      <td>Pop</td>\n",
       "      <td>29-10-2021</td>\n",
       "    </tr>\n",
       "  </tbody>\n",
       "</table>\n",
       "</div>"
      ],
      "text/plain": [
       "                   song_title                         artist  \\\n",
       "0                       Happy              Pharrell Williams   \n",
       "1                 Uptown Funk                    Mark Ronson   \n",
       "2              I Will Survive                  Gloria Gaynor   \n",
       "3               Dancing Queen                           ABBA   \n",
       "4           Bohemian Rhapsody                          Queen   \n",
       "5                     Imagine                    John Lennon   \n",
       "6                  Hallelujah                  Leonard Cohen   \n",
       "7      What a Wonderful World                Louis Armstrong   \n",
       "8          Fly Me to the Moon                  Frank Sinatra   \n",
       "9                      My Way                  Frank Sinatra   \n",
       "10                  Yesterday                    The Beatles   \n",
       "11      Old Town Road (Remix)  Lil Nas X ft. Billy Ray Cyrus   \n",
       "12            Blinding Lights                     The Weeknd   \n",
       "13          Someone You Loved                  Lewis Capaldi   \n",
       "14               Dance Monkey                    Tones and I   \n",
       "15                    Circles                    Post Malone   \n",
       "16                   Good 4 U                 Olivia Rodrigo   \n",
       "17              Industry Baby      Lil Nas X ft. Jack Harlow   \n",
       "18  Levitating (feat. DaBaby)                       Dua Lipa   \n",
       "19  Stay (with Justin Bieber)                  The Kid Laroi   \n",
       "20                    Shivers                     Ed Sheeran   \n",
       "\n",
       "                                       album        genre release_date  \n",
       "0                                    G I R L          Pop   03-03-2014  \n",
       "1                             Uptown Special         Funk   26-01-2015  \n",
       "2                                Love Tracks        Disco   06-10-1978  \n",
       "3                                    Arrival        Disco   11-11-1976  \n",
       "4                       A Night at the Opera         Rock   31-10-1975  \n",
       "5                                    Imagine         Rock   09-09-1971  \n",
       "6              Various Artists: I'm Your Fan         Folk   26-11-1984  \n",
       "7                         Satchmo Plays Fats         Jazz   28-05-1957  \n",
       "8                         Fly Me to the Moon         Jazz   24-09-1964  \n",
       "9                                     My Way          Pop   25-07-1969  \n",
       "10                                     Help!          Pop   06-08-1965  \n",
       "11                                      7 EP  Country Rap   05-04-2019  \n",
       "12                               After Hours          Pop   29-11-2019  \n",
       "13   Divinely Uninspired to a Hellish Extent          Pop   17-05-2019  \n",
       "14                              Dance Monkey          Pop   10-05-2019  \n",
       "15                      Hollywood's Bleeding      Pop Rap   06-09-2019  \n",
       "16                                      SOUR     Pop Punk   21-05-2021  \n",
       "17                                   Montero      Hip Hop   23-07-2021  \n",
       "18  Future Nostalgia (The Moonlight Edition)          Pop   27-03-2021  \n",
       "19                        F*ck Love (Savage)          Pop   09-07-2021  \n",
       "20                                         =          Pop   29-10-2021  "
      ]
     },
     "execution_count": 13,
     "metadata": {},
     "output_type": "execute_result"
    }
   ],
   "source": [
    "df"
   ]
  },
  {
   "cell_type": "code",
   "execution_count": 15,
   "id": "16c87df2",
   "metadata": {},
   "outputs": [
    {
     "name": "stdout",
     "output_type": "stream",
     "text": [
      "Enter your preferred song title: Happy\n",
      "Recommended songs:\n",
      "- My Way\n",
      "- Uptown Funk\n",
      "- I Will Survive\n",
      "- Dancing Queen\n",
      "- Bohemian Rhapsody\n"
     ]
    }
   ],
   "source": [
    "# import pandas as pd\n",
    "# from sklearn.feature_extraction.text import TfidfVectorizer\n",
    "# from sklearn.metrics.pairwise import cosine_similarity\n",
    "\n",
    "song_data=df\n",
    "\n",
    "class MusicRecommender:\n",
    "    def __init__(self, song_data):\n",
    "        self.song_data = song_data\n",
    "        self.tfidf_vectorizer = TfidfVectorizer(analyzer='word', token_pattern=r'\\w+')\n",
    "        self.song_title_matrix = self.tfidf_vectorizer.fit_transform(song_data['song_title'])\n",
    "        self.song_similarity_matrix = cosine_similarity(self.song_title_matrix, self.song_title_matrix)\n",
    "\n",
    "    def get_recommendations(self, user_song_title, top_n=5):\n",
    "        \"\"\"\n",
    "        Generates recommendations for a given user's preferred song title.\n",
    "\n",
    "        Args:\n",
    "            user_song_title (str): The preferred song title of the user.\n",
    "            top_n (int): The number of recommendations to generate.\n",
    "\n",
    "        Returns:\n",
    "            list: A list of recommended song titles.\n",
    "        \"\"\"\n",
    "        # Find the index of the user's preferred song title.\n",
    "        song_indices = self.song_data[self.song_data['song_title'] == user_song_title].index\n",
    "\n",
    "        if not song_indices.empty:\n",
    "            # Calculate the similarity of the user's preferred song title\n",
    "            # to all other song titles.\n",
    "            song_similarity_scores = self.song_similarity_matrix[song_indices[0]]\n",
    "\n",
    "            # Sort song titles by similarity in descending order.\n",
    "            similar_song_indices = song_similarity_scores.argsort()[::-1]\n",
    "\n",
    "            # Remove the index of the user's preferred song title from the list.\n",
    "            similar_song_indices = [i for i in similar_song_indices if i != song_indices[0]]\n",
    "\n",
    "            # Get the top N most similar song titles.\n",
    "            recommended_song_indices = similar_song_indices[:top_n]\n",
    "\n",
    "            # Get the recommended song titles.\n",
    "            recommended_songs = self.song_data.iloc[recommended_song_indices]['song_title'].tolist()\n",
    "\n",
    "            return recommended_songs\n",
    "\n",
    "        else:\n",
    "            return []\n",
    "\n",
    "# Load song data from 'song_details_new.csv'.\n",
    "# song_data = pd.read_csv('song_details_new.csv')\n",
    "\n",
    "# Create a MusicRecommender object using the song data.\n",
    "recommender = MusicRecommender(song_data)\n",
    "\n",
    "# Ask the user for their preferred song title.\n",
    "user_preferred_song_title = input('Enter your preferred song title: ')\n",
    "\n",
    "# Get recommendations for the user based on their preferred song title.\n",
    "recommendations = recommender.get_recommendations(user_preferred_song_title)\n",
    "\n",
    "# Print the recommended songs.\n",
    "if recommendations:\n",
    "    print('Recommended songs:')\n",
    "    for song_title in recommendations:\n",
    "        print(f'- {song_title}')\n",
    "else:\n",
    "    print('No recommendations found for the given song title.')\n"
   ]
  },
  {
   "cell_type": "code",
   "execution_count": 16,
   "id": "30c7aa70",
   "metadata": {},
   "outputs": [
    {
     "data": {
      "text/html": [
       "<img src=\"https://i.scdn.co/image/ab67616d0000b273e8107e6d9214baa81bb79bba\" width=\"200\" height=\"200\"/>"
      ],
      "text/plain": [
       "<IPython.core.display.Image object>"
      ]
     },
     "metadata": {},
     "output_type": "display_data"
    },
    {
     "data": {
      "text/html": [
       "<img src=\"https://i.scdn.co/image/ab67616d0000b273e419ccba0baa8bd3f3d7abf2\" width=\"200\" height=\"200\"/>"
      ],
      "text/plain": [
       "<IPython.core.display.Image object>"
      ]
     },
     "metadata": {},
     "output_type": "display_data"
    },
    {
     "data": {
      "text/html": [
       "<img src=\"https://i.scdn.co/image/ab67616d0000b273a6479db910d22f5aa4546af1\" width=\"200\" height=\"200\"/>"
      ],
      "text/plain": [
       "<IPython.core.display.Image object>"
      ]
     },
     "metadata": {},
     "output_type": "display_data"
    },
    {
     "data": {
      "text/html": [
       "<img src=\"https://i.scdn.co/image/ab67616d0000b27370f7a1b35d5165c85b95a0e0\" width=\"200\" height=\"200\"/>"
      ],
      "text/plain": [
       "<IPython.core.display.Image object>"
      ]
     },
     "metadata": {},
     "output_type": "display_data"
    },
    {
     "data": {
      "text/html": [
       "<img src=\"https://i.scdn.co/image/ab67616d0000b273ce4f1737bc8a646c8c4bd25a\" width=\"200\" height=\"200\"/>"
      ],
      "text/plain": [
       "<IPython.core.display.Image object>"
      ]
     },
     "metadata": {},
     "output_type": "display_data"
    },
    {
     "data": {
      "text/html": [
       "<img src=\"https://i.scdn.co/image/ab67616d0000b27399581550ef9746ca582bb3cc\" width=\"200\" height=\"200\"/>"
      ],
      "text/plain": [
       "<IPython.core.display.Image object>"
      ]
     },
     "metadata": {},
     "output_type": "display_data"
    },
    {
     "data": {
      "text/html": [
       "<img src=\"https://i.scdn.co/image/ab67616d0000b2738c56267153920f9c0df36c5b\" width=\"200\" height=\"200\"/>"
      ],
      "text/plain": [
       "<IPython.core.display.Image object>"
      ]
     },
     "metadata": {},
     "output_type": "display_data"
    },
    {
     "data": {
      "text/html": [
       "<img src=\"https://i.scdn.co/image/ab67616d0000b273845a5660b804e5f3e821fbed\" width=\"200\" height=\"200\"/>"
      ],
      "text/plain": [
       "<IPython.core.display.Image object>"
      ]
     },
     "metadata": {},
     "output_type": "display_data"
    },
    {
     "data": {
      "text/html": [
       "<img src=\"https://i.scdn.co/image/ab67616d0000b273cb81eb3c1238c60f2bbfd3b5\" width=\"200\" height=\"200\"/>"
      ],
      "text/plain": [
       "<IPython.core.display.Image object>"
      ]
     },
     "metadata": {},
     "output_type": "display_data"
    },
    {
     "data": {
      "text/html": [
       "<img src=\"https://i.scdn.co/image/ab67616d0000b27380aa6a82fce614eea8357253\" width=\"200\" height=\"200\"/>"
      ],
      "text/plain": [
       "<IPython.core.display.Image object>"
      ]
     },
     "metadata": {},
     "output_type": "display_data"
    },
    {
     "data": {
      "text/html": [
       "<img src=\"https://i.scdn.co/image/ab67616d0000b273e3e3b64cea45265469d4cafa\" width=\"200\" height=\"200\"/>"
      ],
      "text/plain": [
       "<IPython.core.display.Image object>"
      ]
     },
     "metadata": {},
     "output_type": "display_data"
    },
    {
     "data": {
      "text/html": [
       "<img src=\"https://i.scdn.co/image/ab67616d0000b273bf1e9b51916b115eb374b440\" width=\"200\" height=\"200\"/>"
      ],
      "text/plain": [
       "<IPython.core.display.Image object>"
      ]
     },
     "metadata": {},
     "output_type": "display_data"
    },
    {
     "data": {
      "text/html": [
       "<img src=\"https://i.scdn.co/image/ab67616d0000b2738863bc11d2aa12b54f5aeb36\" width=\"200\" height=\"200\"/>"
      ],
      "text/plain": [
       "<IPython.core.display.Image object>"
      ]
     },
     "metadata": {},
     "output_type": "display_data"
    },
    {
     "data": {
      "text/html": [
       "<img src=\"https://i.scdn.co/image/ab67616d0000b273fc2101e6889d6ce9025f85f2\" width=\"200\" height=\"200\"/>"
      ],
      "text/plain": [
       "<IPython.core.display.Image object>"
      ]
     },
     "metadata": {},
     "output_type": "display_data"
    },
    {
     "data": {
      "text/html": [
       "<img src=\"https://i.scdn.co/image/ab67616d0000b273c6f7af36ecdc3ed6e0a1f169\" width=\"200\" height=\"200\"/>"
      ],
      "text/plain": [
       "<IPython.core.display.Image object>"
      ]
     },
     "metadata": {},
     "output_type": "display_data"
    },
    {
     "data": {
      "text/html": [
       "<img src=\"https://i.scdn.co/image/ab67616d0000b2739478c87599550dd73bfa7e02\" width=\"200\" height=\"200\"/>"
      ],
      "text/plain": [
       "<IPython.core.display.Image object>"
      ]
     },
     "metadata": {},
     "output_type": "display_data"
    },
    {
     "data": {
      "text/html": [
       "<img src=\"https://i.scdn.co/image/ab67616d0000b273a91c10fe9472d9bd89802e5a\" width=\"200\" height=\"200\"/>"
      ],
      "text/plain": [
       "<IPython.core.display.Image object>"
      ]
     },
     "metadata": {},
     "output_type": "display_data"
    },
    {
     "data": {
      "text/html": [
       "<img src=\"https://i.scdn.co/image/ab67616d0000b273be82673b5f79d9658ec0a9fd\" width=\"200\" height=\"200\"/>"
      ],
      "text/plain": [
       "<IPython.core.display.Image object>"
      ]
     },
     "metadata": {},
     "output_type": "display_data"
    },
    {
     "data": {
      "text/html": [
       "<img src=\"https://i.scdn.co/image/ab67616d0000b273d4daf28d55fe4197ede848be\" width=\"200\" height=\"200\"/>"
      ],
      "text/plain": [
       "<IPython.core.display.Image object>"
      ]
     },
     "metadata": {},
     "output_type": "display_data"
    },
    {
     "data": {
      "text/html": [
       "<img src=\"https://i.scdn.co/image/ab67616d0000b27341e31d6ea1d493dd77933ee5\" width=\"200\" height=\"200\"/>"
      ],
      "text/plain": [
       "<IPython.core.display.Image object>"
      ]
     },
     "metadata": {},
     "output_type": "display_data"
    },
    {
     "data": {
      "text/html": [
       "<img src=\"https://i.scdn.co/image/ab67616d0000b273ef24c3fdbf856340d55cfeb2\" width=\"200\" height=\"200\"/>"
      ],
      "text/plain": [
       "<IPython.core.display.Image object>"
      ]
     },
     "metadata": {},
     "output_type": "display_data"
    }
   ],
   "source": [
    "# import requests\n",
    "# import base64\n",
    "# import pandas as pd\n",
    "# from IPython.display import Image, display\n",
    "\n",
    "# Spotify API credentials\n",
    "client_id = 'bb4a465b5df74c4f9e930c6f09fae58c'\n",
    "client_secret = 'bd495ff8b3024201a693ee77e9dc09f4'\n",
    "\n",
    "# Base64 encode the client ID and client secret for authentication\n",
    "client_credentials = f'{client_id}:{client_secret}'\n",
    "base64_credentials = base64.b64encode(client_credentials.encode()).decode()\n",
    "\n",
    "# Obtain an access token using the Client Credentials Flow\n",
    "token_url = 'https://accounts.spotify.com/api/token'\n",
    "token_data = {'grant_type': 'client_credentials'}\n",
    "token_headers = {'Authorization': f'Basic {base64_credentials}'}\n",
    "response = requests.post(token_url, data=token_data, headers=token_headers)\n",
    "access_token = response.json()['access_token']\n",
    "\n",
    "# Load song data from CSV\n",
    "# df = pd.read_csv('song_data.csv')  # Replace with the actual CSV file path\n",
    "\n",
    "# Create a new column to store album cover URLs\n",
    "df['album_cover_url'] = ''\n",
    "\n",
    "# Iterate through each row in the DataFrame\n",
    "for index, row in df.iterrows():\n",
    "    song_title = row['song_title']\n",
    "    artist = row['artist']\n",
    "\n",
    "    # Search for the song using the Spotify API\n",
    "    song_query = f'{song_title} {artist}'\n",
    "    search_url = f'https://api.spotify.com/v1/search?q={song_query}&type=track'\n",
    "    search_headers = {'Authorization': f'Bearer {access_token}'}\n",
    "    search_response = requests.get(search_url, headers=search_headers)\n",
    "    song_info = search_response.json()\n",
    "\n",
    "    # Extract the album cover URL from the search results and store it in the DataFrame\n",
    "    if 'tracks' in song_info and 'items' in song_info['tracks'] and len(song_info['tracks']['items']) > 0:\n",
    "        first_track = song_info['tracks']['items'][0]\n",
    "        album_cover_url = first_track['album']['images'][0]['url']\n",
    "        df.at[index, 'album_cover_url'] = album_cover_url\n",
    "\n",
    "    else:\n",
    "        print(f'No information found for: {song_title} by {artist}')\n",
    "\n",
    "# Display album cover images column-wise\n",
    "for index, row in df.iterrows():\n",
    "    album_cover_url = row['album_cover_url']\n",
    "    display(Image(url=album_cover_url, width=200, height=200))\n"
   ]
  },
  {
   "cell_type": "code",
   "execution_count": 17,
   "id": "8f9e2d82",
   "metadata": {
    "scrolled": false
   },
   "outputs": [
    {
     "name": "stdout",
     "output_type": "stream",
     "text": [
      "Enter your preferred song title: Happy\n",
      "Recommended songs:\n",
      "- My Way\n",
      "- Uptown Funk\n",
      "- I Will Survive\n",
      "- Dancing Queen\n",
      "- Bohemian Rhapsody\n"
     ]
    },
    {
     "data": {
      "text/html": [
       "<img src=\"https://i.scdn.co/image/ab67616d0000b27380aa6a82fce614eea8357253\" width=\"200\" height=\"200\"/>"
      ],
      "text/plain": [
       "<IPython.core.display.Image object>"
      ]
     },
     "metadata": {},
     "output_type": "display_data"
    },
    {
     "data": {
      "text/html": [
       "<img src=\"https://i.scdn.co/image/ab67616d0000b273e419ccba0baa8bd3f3d7abf2\" width=\"200\" height=\"200\"/>"
      ],
      "text/plain": [
       "<IPython.core.display.Image object>"
      ]
     },
     "metadata": {},
     "output_type": "display_data"
    },
    {
     "data": {
      "text/html": [
       "<img src=\"https://i.scdn.co/image/ab67616d0000b273a6479db910d22f5aa4546af1\" width=\"200\" height=\"200\"/>"
      ],
      "text/plain": [
       "<IPython.core.display.Image object>"
      ]
     },
     "metadata": {},
     "output_type": "display_data"
    },
    {
     "data": {
      "text/html": [
       "<img src=\"https://i.scdn.co/image/ab67616d0000b27370f7a1b35d5165c85b95a0e0\" width=\"200\" height=\"200\"/>"
      ],
      "text/plain": [
       "<IPython.core.display.Image object>"
      ]
     },
     "metadata": {},
     "output_type": "display_data"
    },
    {
     "data": {
      "text/html": [
       "<img src=\"https://i.scdn.co/image/ab67616d0000b273ce4f1737bc8a646c8c4bd25a\" width=\"200\" height=\"200\"/>"
      ],
      "text/plain": [
       "<IPython.core.display.Image object>"
      ]
     },
     "metadata": {},
     "output_type": "display_data"
    }
   ],
   "source": [
    "# import requests\n",
    "# import base64\n",
    "# import pandas as pd\n",
    "# from IPython.display import Image, display\n",
    "\n",
    "# Spotify API credentials\n",
    "client_id = 'bb4a465b5df74c4f9e930c6f09fae58c'\n",
    "client_secret = 'bd495ff8b3024201a693ee77e9dc09f4'\n",
    "\n",
    "# Base64 encode the client ID and client secret for authentication\n",
    "client_credentials = f'{client_id}:{client_secret}'\n",
    "base64_credentials = base64.b64encode(client_credentials.encode()).decode()\n",
    "\n",
    "# Obtain an access token using the Client Credentials Flow\n",
    "token_url = 'https://accounts.spotify.com/api/token'\n",
    "token_data = {'grant_type': 'client_credentials'}\n",
    "token_headers = {'Authorization': f'Basic {base64_credentials}'}\n",
    "response = requests.post(token_url, data=token_data, headers=token_headers)\n",
    "access_token = response.json()['access_token']\n",
    "\n",
    "# Load song data from CSV\n",
    "# df = pd.read_csv('song_details_new.csv')  # Replace with the actual CSV file path\n",
    "\n",
    "class MusicRecommender:\n",
    "    def __init__(self, song_data):\n",
    "        self.song_data = song_data\n",
    "        self.tfidf_vectorizer = TfidfVectorizer(analyzer='word', token_pattern=r'\\w+')\n",
    "        self.song_title_matrix = self.tfidf_vectorizer.fit_transform(song_data['song_title'])\n",
    "        self.song_similarity_matrix = cosine_similarity(self.song_title_matrix, self.song_title_matrix)\n",
    "\n",
    "    def get_recommendations(self, user_song_title, top_n=5):\n",
    "        \"\"\"\n",
    "        Generates recommendations for a given user's preferred song title.\n",
    "\n",
    "        Args:\n",
    "            user_song_title (str): The preferred song title of the user.\n",
    "            top_n (int): The number of recommendations to generate.\n",
    "\n",
    "        Returns:\n",
    "            list: A list of recommended song titles.\n",
    "        \"\"\"\n",
    "        # Find the index of the user's preferred song title.\n",
    "        song_indices = self.song_data[self.song_data['song_title'] == user_song_title].index\n",
    "\n",
    "        if not song_indices.empty:\n",
    "            # Calculate the similarity of the user's preferred song title\n",
    "            # to all other song titles.\n",
    "            song_similarity_scores = self.song_similarity_matrix[song_indices[0]]\n",
    "\n",
    "            # Sort song titles by similarity in descending order.\n",
    "            similar_song_indices = song_similarity_scores.argsort()[::-1]\n",
    "\n",
    "            # Remove the index of the user's preferred song title from the list.\n",
    "            similar_song_indices = [i for i in similar_song_indices if i != song_indices[0]]\n",
    "\n",
    "            # Get the top N most similar song titles.\n",
    "            recommended_song_indices = similar_song_indices[:top_n]\n",
    "\n",
    "            # Get the recommended song titles.\n",
    "            recommended_songs = self.song_data.iloc[recommended_song_indices]['song_title'].tolist()\n",
    "\n",
    "            return recommended_songs\n",
    "\n",
    "        else:\n",
    "            return []\n",
    "\n",
    "# Create a MusicRecommender object using the song data.\n",
    "recommender = MusicRecommender(df)\n",
    "\n",
    "# Ask the user for their preferred song title.\n",
    "user_preferred_song_title = input('Enter your preferred song title: ')\n",
    "\n",
    "# Get recommendations for the user based on their preferred song title.\n",
    "recommendations = recommender.get_recommendations(user_preferred_song_title)\n",
    "\n",
    "# Print the recommended songs.\n",
    "if recommendations:\n",
    "    print('Recommended songs:')\n",
    "    for song_title in recommendations:\n",
    "        print(f'- {song_title}')\n",
    "else:\n",
    "    print('No recommendations found for the given song title.')\n",
    "\n",
    "# Display album cover images for recommended songs\n",
    "for song_title in recommendations:\n",
    "    song_info = df[df['song_title'] == song_title].iloc[0]\n",
    "    song_query = f'{song_title} {song_info[\"artist\"]}'\n",
    "    search_url = f'https://api.spotify.com/v1/search?q={song_query}&type=track'\n",
    "    search_headers = {'Authorization': f'Bearer {access_token}'}\n",
    "    search_response = requests.get(search_url, headers=search_headers)\n",
    "    song_info = search_response.json()\n",
    "\n",
    "    if 'tracks' in song_info and 'items' in song_info['tracks'] and len(song_info['tracks']['items']) > 0:\n",
    "        first_track = song_info['tracks']['items'][0]\n",
    "        album_cover_url = first_track['album']['images'][0]['url']\n",
    "        display(Image(url=album_cover_url, width=200, height=200))\n",
    "    else:\n",
    "        print(f'No information found for: {song_title}')\n",
    "\n",
    "        "
   ]
  },
  {
   "cell_type": "code",
   "execution_count": null,
   "id": "52655830",
   "metadata": {},
   "outputs": [],
   "source": []
  }
 ],
 "metadata": {
  "kernelspec": {
   "display_name": "Python 3 (ipykernel)",
   "language": "python",
   "name": "python3"
  },
  "language_info": {
   "codemirror_mode": {
    "name": "ipython",
    "version": 3
   },
   "file_extension": ".py",
   "mimetype": "text/x-python",
   "name": "python",
   "nbconvert_exporter": "python",
   "pygments_lexer": "ipython3",
   "version": "3.9.13"
  }
 },
 "nbformat": 4,
 "nbformat_minor": 5
}
